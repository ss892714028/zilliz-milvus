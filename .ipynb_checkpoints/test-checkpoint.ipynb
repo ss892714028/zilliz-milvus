{
 "cells": [
  {
   "cell_type": "code",
   "execution_count": 14,
   "metadata": {},
   "outputs": [],
   "source": [
    "import torch\n",
    "import torchvision\n",
    "from Net import Net\n",
    "import torch.optim as optim\n",
    "import train\n",
    "from Transformer import Transformer"
   ]
  },
  {
   "cell_type": "code",
   "execution_count": 15,
   "metadata": {},
   "outputs": [],
   "source": [
    "learning_rate = 0.01\n",
    "momentum = 0.5\n",
    "root = 'data\\\\'\n",
    "network = Net()\n",
    "network.load_state_dict(torch.load('results/model.pth'))"
   ]
  },
  {
   "cell_type": "code",
   "execution_count": 16,
   "metadata": {},
   "outputs": [],
   "source": [
    "test_loader = torch.utils.data.DataLoader(\n",
    "torchvision.datasets.MNIST(root, train=False, download=True,\n",
    "                             transform=torchvision.transforms.Compose([\n",
    "                               torchvision.transforms.ToTensor(),\n",
    "                               torchvision.transforms.Normalize(\n",
    "                                 (0.1307,), (0.3081,))\n",
    "                             ])), shuffle=True)"
   ]
  },
  {
   "cell_type": "code",
   "execution_count": 17,
   "metadata": {},
   "outputs": [
    {
     "name": "stderr",
     "output_type": "stream",
     "text": [
      "C:\\Users\\Stan\\PycharmProjects\\untitled\\Net.py:22: UserWarning: Implicit dimension choice for log_softmax has been deprecated. Change the call to include dim=X as an argument.\n",
      "  return F.log_softmax(x)\n"
     ]
    }
   ],
   "source": [
    "# here we transform our test set (10000 hand written imgs) into vector with shape (50,)\n",
    "transform = Transformer(network)\n",
    "vectors = []\n",
    "targets = []\n",
    "for data, target in test_loader:\n",
    "    av = transform.get_vector(data).tolist()\n",
    "    vectors.append(av)\n",
    "    targets.append(target)"
   ]
  },
  {
   "cell_type": "code",
   "execution_count": 18,
   "metadata": {},
   "outputs": [],
   "source": [
    "from milvus import Milvus, IndexType, MetricType, Status\n",
    "\n",
    "milvus = Milvus('127.0.0.1', '19530')\n",
    "collection_name = 'cnn'\n",
    "status, ok = milvus.has_collection(collection_name)\n",
    "if not ok:\n",
    "    param = {\n",
    "        'collection_name': collection_name,\n",
    "        'dimension': 50\n",
    "    }\n",
    "    # create a milvus collection\n",
    "    milvus.create_collection(param)\n"
   ]
  },
  {
   "cell_type": "code",
   "execution_count": 19,
   "metadata": {},
   "outputs": [
    {
     "name": "stdout",
     "output_type": "stream",
     "text": [
      "Status(code=0, message='Add vectors successfully!')\n"
     ]
    }
   ],
   "source": [
    "# insert the 10000 vectors\n",
    "status, ids = milvus.insert(collection_name=collection_name, records=vectors)\n",
    "print(status)"
   ]
  },
  {
   "cell_type": "code",
   "execution_count": 20,
   "metadata": {},
   "outputs": [],
   "source": [
    "# initiate a map to keep track of {milvus_id: label}\n",
    "label_map = {}\n",
    "for idx, label in zip(ids, targets):\n",
    "    label_map[idx]=int(label)"
   ]
  },
  {
   "cell_type": "code",
   "execution_count": 21,
   "metadata": {},
   "outputs": [
    {
     "data": {
      "text/plain": [
       "Status(code=0, message='Build index successfully!')"
      ]
     },
     "execution_count": 21,
     "metadata": {},
     "output_type": "execute_result"
    }
   ],
   "source": [
    "milvus.create_index('cnn', IndexType.IVF_FLAT, {'nlist': 600})"
   ]
  },
  {
   "cell_type": "code",
   "execution_count": 22,
   "metadata": {},
   "outputs": [
    {
     "name": "stdout",
     "output_type": "stream",
     "text": [
      "0.24207711219787598\n"
     ]
    }
   ],
   "source": [
    "# perform the search, return topk results\n",
    "import time\n",
    "\n",
    "t = time.time()\n",
    "for _ in range(100):\n",
    "    status, result = milvus.search(collection_name='cnn',query_records=[vectors[11]],\n",
    "                  top_k=10,params={'nprobe':16})\n",
    "print(time.time()-t)"
   ]
  },
  {
   "cell_type": "code",
   "execution_count": 23,
   "metadata": {},
   "outputs": [
    {
     "name": "stdout",
     "output_type": "stream",
     "text": [
      "True\n",
      "True\n",
      "True\n",
      "True\n",
      "True\n",
      "True\n",
      "True\n",
      "True\n",
      "True\n",
      "True\n"
     ]
    }
   ],
   "source": [
    "# print True if the returned image share the same label as the input image\n",
    "for i in result:\n",
    "    for k in i:\n",
    "        print(bool(label_map[k.id]==targets[11]))"
   ]
  },
  {
   "cell_type": "code",
   "execution_count": 24,
   "metadata": {},
   "outputs": [
    {
     "data": {
      "text/plain": [
       "Status(code=0, message='Delete collection successfully!')"
      ]
     },
     "execution_count": 24,
     "metadata": {},
     "output_type": "execute_result"
    }
   ],
   "source": [
    "milvus.drop_collection(collection_name)\n"
   ]
  },
  {
   "cell_type": "code",
   "execution_count": null,
   "metadata": {},
   "outputs": [],
   "source": []
  }
 ],
 "metadata": {
  "kernelspec": {
   "display_name": "Python 3",
   "language": "python",
   "name": "python3"
  },
  "language_info": {
   "codemirror_mode": {
    "name": "ipython",
    "version": 3
   },
   "file_extension": ".py",
   "mimetype": "text/x-python",
   "name": "python",
   "nbconvert_exporter": "python",
   "pygments_lexer": "ipython3",
   "version": "3.6.7"
  }
 },
 "nbformat": 4,
 "nbformat_minor": 2
}
